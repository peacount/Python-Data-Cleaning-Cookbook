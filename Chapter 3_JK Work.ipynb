{
 "cells": [
  {
   "cell_type": "markdown",
   "metadata": {},
   "source": [
    "Chapter 3. Getting a First Look at Your Data"
   ]
  },
  {
   "cell_type": "code",
   "execution_count": 20,
   "metadata": {},
   "outputs": [],
   "source": [
    "import pandas as pd\n",
    "import numpy as np\n",
    "import os as os\n",
    "os.chdir('C:\\\\Users\\\\jenny\\\\venvs\\\\py39\\\\Python-Data-Cleaning-Cookbook-master\\\\Chapter03\\\\data')\n",
    "nls97 = pd.read_csv('nls97.csv')\n",
    "covidtotals = pd.read_csv('covidtotals.csv')\n",
    "# covidtotals = pd.read_csv('covidtotals.csv', parse_dates = ['lastdate'])\n"
   ]
  },
  {
   "cell_type": "code",
   "execution_count": 2,
   "metadata": {},
   "outputs": [
    {
     "data": {
      "text/html": [
       "<div>\n",
       "<style scoped>\n",
       "    .dataframe tbody tr th:only-of-type {\n",
       "        vertical-align: middle;\n",
       "    }\n",
       "\n",
       "    .dataframe tbody tr th {\n",
       "        vertical-align: top;\n",
       "    }\n",
       "\n",
       "    .dataframe thead th {\n",
       "        text-align: right;\n",
       "    }\n",
       "</style>\n",
       "<table border=\"1\" class=\"dataframe\">\n",
       "  <thead>\n",
       "    <tr style=\"text-align: right;\">\n",
       "      <th></th>\n",
       "      <th>personid</th>\n",
       "      <th>gender</th>\n",
       "      <th>birthmonth</th>\n",
       "      <th>birthyear</th>\n",
       "      <th>highestgradecompleted</th>\n",
       "      <th>maritalstatus</th>\n",
       "      <th>childathome</th>\n",
       "      <th>childnotathome</th>\n",
       "      <th>wageincome</th>\n",
       "      <th>weeklyhrscomputer</th>\n",
       "      <th>...</th>\n",
       "      <th>colenrfeb13</th>\n",
       "      <th>colenroct13</th>\n",
       "      <th>colenrfeb14</th>\n",
       "      <th>colenroct14</th>\n",
       "      <th>colenrfeb15</th>\n",
       "      <th>colenroct15</th>\n",
       "      <th>colenrfeb16</th>\n",
       "      <th>colenroct16</th>\n",
       "      <th>colenrfeb17</th>\n",
       "      <th>colenroct17</th>\n",
       "    </tr>\n",
       "  </thead>\n",
       "  <tbody>\n",
       "    <tr>\n",
       "      <th>0</th>\n",
       "      <td>100061</td>\n",
       "      <td>Female</td>\n",
       "      <td>5</td>\n",
       "      <td>1980</td>\n",
       "      <td>13.0</td>\n",
       "      <td>Married</td>\n",
       "      <td>4.0</td>\n",
       "      <td>0.0</td>\n",
       "      <td>12500.0</td>\n",
       "      <td>10 hours or more a week</td>\n",
       "      <td>...</td>\n",
       "      <td>1. Not enrolled</td>\n",
       "      <td>1. Not enrolled</td>\n",
       "      <td>1. Not enrolled</td>\n",
       "      <td>1. Not enrolled</td>\n",
       "      <td>1. Not enrolled</td>\n",
       "      <td>1. Not enrolled</td>\n",
       "      <td>1. Not enrolled</td>\n",
       "      <td>1. Not enrolled</td>\n",
       "      <td>1. Not enrolled</td>\n",
       "      <td>1. Not enrolled</td>\n",
       "    </tr>\n",
       "    <tr>\n",
       "      <th>1</th>\n",
       "      <td>100139</td>\n",
       "      <td>Male</td>\n",
       "      <td>9</td>\n",
       "      <td>1983</td>\n",
       "      <td>12.0</td>\n",
       "      <td>Married</td>\n",
       "      <td>2.0</td>\n",
       "      <td>0.0</td>\n",
       "      <td>120000.0</td>\n",
       "      <td>1 to 3 hours a week</td>\n",
       "      <td>...</td>\n",
       "      <td>1. Not enrolled</td>\n",
       "      <td>1. Not enrolled</td>\n",
       "      <td>1. Not enrolled</td>\n",
       "      <td>1. Not enrolled</td>\n",
       "      <td>1. Not enrolled</td>\n",
       "      <td>1. Not enrolled</td>\n",
       "      <td>1. Not enrolled</td>\n",
       "      <td>1. Not enrolled</td>\n",
       "      <td>1. Not enrolled</td>\n",
       "      <td>1. Not enrolled</td>\n",
       "    </tr>\n",
       "    <tr>\n",
       "      <th>2</th>\n",
       "      <td>100284</td>\n",
       "      <td>Male</td>\n",
       "      <td>11</td>\n",
       "      <td>1984</td>\n",
       "      <td>7.0</td>\n",
       "      <td>Never-married</td>\n",
       "      <td>1.0</td>\n",
       "      <td>0.0</td>\n",
       "      <td>58000.0</td>\n",
       "      <td>None</td>\n",
       "      <td>...</td>\n",
       "      <td>1. Not enrolled</td>\n",
       "      <td>1. Not enrolled</td>\n",
       "      <td>1. Not enrolled</td>\n",
       "      <td>1. Not enrolled</td>\n",
       "      <td>1. Not enrolled</td>\n",
       "      <td>1. Not enrolled</td>\n",
       "      <td>1. Not enrolled</td>\n",
       "      <td>1. Not enrolled</td>\n",
       "      <td>1. Not enrolled</td>\n",
       "      <td>1. Not enrolled</td>\n",
       "    </tr>\n",
       "    <tr>\n",
       "      <th>3</th>\n",
       "      <td>100292</td>\n",
       "      <td>Male</td>\n",
       "      <td>4</td>\n",
       "      <td>1982</td>\n",
       "      <td>NaN</td>\n",
       "      <td>NaN</td>\n",
       "      <td>NaN</td>\n",
       "      <td>NaN</td>\n",
       "      <td>NaN</td>\n",
       "      <td>NaN</td>\n",
       "      <td>...</td>\n",
       "      <td>1. Not enrolled</td>\n",
       "      <td>1. Not enrolled</td>\n",
       "      <td>1. Not enrolled</td>\n",
       "      <td>1. Not enrolled</td>\n",
       "      <td>1. Not enrolled</td>\n",
       "      <td>1. Not enrolled</td>\n",
       "      <td>NaN</td>\n",
       "      <td>NaN</td>\n",
       "      <td>NaN</td>\n",
       "      <td>NaN</td>\n",
       "    </tr>\n",
       "    <tr>\n",
       "      <th>4</th>\n",
       "      <td>100583</td>\n",
       "      <td>Male</td>\n",
       "      <td>1</td>\n",
       "      <td>1980</td>\n",
       "      <td>13.0</td>\n",
       "      <td>Married</td>\n",
       "      <td>4.0</td>\n",
       "      <td>0.0</td>\n",
       "      <td>30000.0</td>\n",
       "      <td>Less than 1 hour a week</td>\n",
       "      <td>...</td>\n",
       "      <td>1. Not enrolled</td>\n",
       "      <td>1. Not enrolled</td>\n",
       "      <td>1. Not enrolled</td>\n",
       "      <td>1. Not enrolled</td>\n",
       "      <td>1. Not enrolled</td>\n",
       "      <td>1. Not enrolled</td>\n",
       "      <td>1. Not enrolled</td>\n",
       "      <td>1. Not enrolled</td>\n",
       "      <td>1. Not enrolled</td>\n",
       "      <td>1. Not enrolled</td>\n",
       "    </tr>\n",
       "  </tbody>\n",
       "</table>\n",
       "<p>5 rows × 89 columns</p>\n",
       "</div>"
      ],
      "text/plain": [
       "   personid  gender  birthmonth  birthyear  highestgradecompleted  \\\n",
       "0    100061  Female           5       1980                   13.0   \n",
       "1    100139    Male           9       1983                   12.0   \n",
       "2    100284    Male          11       1984                    7.0   \n",
       "3    100292    Male           4       1982                    NaN   \n",
       "4    100583    Male           1       1980                   13.0   \n",
       "\n",
       "   maritalstatus  childathome  childnotathome  wageincome  \\\n",
       "0        Married          4.0             0.0     12500.0   \n",
       "1        Married          2.0             0.0    120000.0   \n",
       "2  Never-married          1.0             0.0     58000.0   \n",
       "3            NaN          NaN             NaN         NaN   \n",
       "4        Married          4.0             0.0     30000.0   \n",
       "\n",
       "         weeklyhrscomputer  ...      colenrfeb13      colenroct13  \\\n",
       "0  10 hours or more a week  ...  1. Not enrolled  1. Not enrolled   \n",
       "1      1 to 3 hours a week  ...  1. Not enrolled  1. Not enrolled   \n",
       "2                     None  ...  1. Not enrolled  1. Not enrolled   \n",
       "3                      NaN  ...  1. Not enrolled  1. Not enrolled   \n",
       "4  Less than 1 hour a week  ...  1. Not enrolled  1. Not enrolled   \n",
       "\n",
       "       colenrfeb14      colenroct14      colenrfeb15      colenroct15  \\\n",
       "0  1. Not enrolled  1. Not enrolled  1. Not enrolled  1. Not enrolled   \n",
       "1  1. Not enrolled  1. Not enrolled  1. Not enrolled  1. Not enrolled   \n",
       "2  1. Not enrolled  1. Not enrolled  1. Not enrolled  1. Not enrolled   \n",
       "3  1. Not enrolled  1. Not enrolled  1. Not enrolled  1. Not enrolled   \n",
       "4  1. Not enrolled  1. Not enrolled  1. Not enrolled  1. Not enrolled   \n",
       "\n",
       "       colenrfeb16      colenroct16      colenrfeb17      colenroct17  \n",
       "0  1. Not enrolled  1. Not enrolled  1. Not enrolled  1. Not enrolled  \n",
       "1  1. Not enrolled  1. Not enrolled  1. Not enrolled  1. Not enrolled  \n",
       "2  1. Not enrolled  1. Not enrolled  1. Not enrolled  1. Not enrolled  \n",
       "3              NaN              NaN              NaN              NaN  \n",
       "4  1. Not enrolled  1. Not enrolled  1. Not enrolled  1. Not enrolled  \n",
       "\n",
       "[5 rows x 89 columns]"
      ]
     },
     "execution_count": 2,
     "metadata": {},
     "output_type": "execute_result"
    }
   ],
   "source": [
    "nls97.head(5)"
   ]
  },
  {
   "cell_type": "code",
   "execution_count": 21,
   "metadata": {},
   "outputs": [
    {
     "data": {
      "text/html": [
       "<div>\n",
       "<style scoped>\n",
       "    .dataframe tbody tr th:only-of-type {\n",
       "        vertical-align: middle;\n",
       "    }\n",
       "\n",
       "    .dataframe tbody tr th {\n",
       "        vertical-align: top;\n",
       "    }\n",
       "\n",
       "    .dataframe thead th {\n",
       "        text-align: right;\n",
       "    }\n",
       "</style>\n",
       "<table border=\"1\" class=\"dataframe\">\n",
       "  <thead>\n",
       "    <tr style=\"text-align: right;\">\n",
       "      <th></th>\n",
       "      <th>iso_code</th>\n",
       "      <th>lastdate</th>\n",
       "      <th>location</th>\n",
       "      <th>total_cases</th>\n",
       "      <th>total_deaths</th>\n",
       "      <th>total_cases_pm</th>\n",
       "      <th>total_deaths_pm</th>\n",
       "      <th>population</th>\n",
       "      <th>pop_density</th>\n",
       "      <th>median_age</th>\n",
       "      <th>gdp_per_capita</th>\n",
       "      <th>hosp_beds</th>\n",
       "    </tr>\n",
       "  </thead>\n",
       "  <tbody>\n",
       "    <tr>\n",
       "      <th>0</th>\n",
       "      <td>AFG</td>\n",
       "      <td>2020-06-01</td>\n",
       "      <td>Afghanistan</td>\n",
       "      <td>15205</td>\n",
       "      <td>257</td>\n",
       "      <td>390.589</td>\n",
       "      <td>6.602</td>\n",
       "      <td>38928341.0</td>\n",
       "      <td>54.422</td>\n",
       "      <td>18.6</td>\n",
       "      <td>1803.987</td>\n",
       "      <td>0.50</td>\n",
       "    </tr>\n",
       "    <tr>\n",
       "      <th>1</th>\n",
       "      <td>ALB</td>\n",
       "      <td>2020-06-01</td>\n",
       "      <td>Albania</td>\n",
       "      <td>1137</td>\n",
       "      <td>33</td>\n",
       "      <td>395.093</td>\n",
       "      <td>11.467</td>\n",
       "      <td>2877800.0</td>\n",
       "      <td>104.871</td>\n",
       "      <td>38.0</td>\n",
       "      <td>11803.431</td>\n",
       "      <td>2.89</td>\n",
       "    </tr>\n",
       "    <tr>\n",
       "      <th>2</th>\n",
       "      <td>DZA</td>\n",
       "      <td>2020-06-01</td>\n",
       "      <td>Algeria</td>\n",
       "      <td>9394</td>\n",
       "      <td>653</td>\n",
       "      <td>214.225</td>\n",
       "      <td>14.891</td>\n",
       "      <td>43851043.0</td>\n",
       "      <td>17.348</td>\n",
       "      <td>29.1</td>\n",
       "      <td>13913.839</td>\n",
       "      <td>1.90</td>\n",
       "    </tr>\n",
       "    <tr>\n",
       "      <th>3</th>\n",
       "      <td>AND</td>\n",
       "      <td>2020-06-01</td>\n",
       "      <td>Andorra</td>\n",
       "      <td>764</td>\n",
       "      <td>51</td>\n",
       "      <td>9888.048</td>\n",
       "      <td>660.066</td>\n",
       "      <td>77265.0</td>\n",
       "      <td>163.755</td>\n",
       "      <td>NaN</td>\n",
       "      <td>NaN</td>\n",
       "      <td>NaN</td>\n",
       "    </tr>\n",
       "    <tr>\n",
       "      <th>4</th>\n",
       "      <td>AGO</td>\n",
       "      <td>2020-06-01</td>\n",
       "      <td>Angola</td>\n",
       "      <td>86</td>\n",
       "      <td>4</td>\n",
       "      <td>2.617</td>\n",
       "      <td>0.122</td>\n",
       "      <td>32866268.0</td>\n",
       "      <td>23.890</td>\n",
       "      <td>16.8</td>\n",
       "      <td>5819.495</td>\n",
       "      <td>NaN</td>\n",
       "    </tr>\n",
       "  </tbody>\n",
       "</table>\n",
       "</div>"
      ],
      "text/plain": [
       "  iso_code    lastdate     location  total_cases  total_deaths  \\\n",
       "0      AFG  2020-06-01  Afghanistan        15205           257   \n",
       "1      ALB  2020-06-01      Albania         1137            33   \n",
       "2      DZA  2020-06-01      Algeria         9394           653   \n",
       "3      AND  2020-06-01      Andorra          764            51   \n",
       "4      AGO  2020-06-01       Angola           86             4   \n",
       "\n",
       "   total_cases_pm  total_deaths_pm  population  pop_density  median_age  \\\n",
       "0         390.589            6.602  38928341.0       54.422        18.6   \n",
       "1         395.093           11.467   2877800.0      104.871        38.0   \n",
       "2         214.225           14.891  43851043.0       17.348        29.1   \n",
       "3        9888.048          660.066     77265.0      163.755         NaN   \n",
       "4           2.617            0.122  32866268.0       23.890        16.8   \n",
       "\n",
       "   gdp_per_capita  hosp_beds  \n",
       "0        1803.987       0.50  \n",
       "1       11803.431       2.89  \n",
       "2       13913.839       1.90  \n",
       "3             NaN        NaN  \n",
       "4        5819.495        NaN  "
      ]
     },
     "execution_count": 21,
     "metadata": {},
     "output_type": "execute_result"
    }
   ],
   "source": [
    "covidtotals.head(5)"
   ]
  },
  {
   "cell_type": "code",
   "execution_count": 4,
   "metadata": {},
   "outputs": [
    {
     "name": "stdout",
     "output_type": "stream",
     "text": [
      "<class 'pandas.core.frame.DataFrame'>\n",
      "RangeIndex: 210 entries, 0 to 209\n",
      "Data columns (total 12 columns):\n",
      " #   Column           Non-Null Count  Dtype         \n",
      "---  ------           --------------  -----         \n",
      " 0   iso_code         210 non-null    object        \n",
      " 1   lastdate         210 non-null    datetime64[ns]\n",
      " 2   location         210 non-null    object        \n",
      " 3   total_cases      210 non-null    int64         \n",
      " 4   total_deaths     210 non-null    int64         \n",
      " 5   total_cases_pm   209 non-null    float64       \n",
      " 6   total_deaths_pm  209 non-null    float64       \n",
      " 7   population       210 non-null    float64       \n",
      " 8   pop_density      198 non-null    float64       \n",
      " 9   median_age       186 non-null    float64       \n",
      " 10  gdp_per_capita   182 non-null    float64       \n",
      " 11  hosp_beds        164 non-null    float64       \n",
      "dtypes: datetime64[ns](1), float64(7), int64(2), object(2)\n",
      "memory usage: 19.8+ KB\n"
     ]
    }
   ],
   "source": [
    "covidtotals.info()"
   ]
  },
  {
   "cell_type": "code",
   "execution_count": 5,
   "metadata": {},
   "outputs": [
    {
     "data": {
      "text/html": [
       "<div>\n",
       "<style scoped>\n",
       "    .dataframe tbody tr th:only-of-type {\n",
       "        vertical-align: middle;\n",
       "    }\n",
       "\n",
       "    .dataframe tbody tr th {\n",
       "        vertical-align: top;\n",
       "    }\n",
       "\n",
       "    .dataframe thead th {\n",
       "        text-align: right;\n",
       "    }\n",
       "</style>\n",
       "<table border=\"1\" class=\"dataframe\">\n",
       "  <thead>\n",
       "    <tr style=\"text-align: right;\">\n",
       "      <th></th>\n",
       "      <th>iso_code</th>\n",
       "      <th>lastdate</th>\n",
       "      <th>location</th>\n",
       "      <th>total_cases</th>\n",
       "      <th>total_deaths</th>\n",
       "      <th>total_cases_pm</th>\n",
       "      <th>total_deaths_pm</th>\n",
       "      <th>population</th>\n",
       "      <th>pop_density</th>\n",
       "      <th>median_age</th>\n",
       "      <th>gdp_per_capita</th>\n",
       "      <th>hosp_beds</th>\n",
       "    </tr>\n",
       "  </thead>\n",
       "  <tbody>\n",
       "    <tr>\n",
       "      <th>0</th>\n",
       "      <td>AFG</td>\n",
       "      <td>2020-06-01</td>\n",
       "      <td>Afghanistan</td>\n",
       "      <td>15205</td>\n",
       "      <td>257</td>\n",
       "      <td>390.589</td>\n",
       "      <td>6.602</td>\n",
       "      <td>38928341.0</td>\n",
       "      <td>54.422</td>\n",
       "      <td>18.6</td>\n",
       "      <td>1803.987</td>\n",
       "      <td>0.50</td>\n",
       "    </tr>\n",
       "    <tr>\n",
       "      <th>1</th>\n",
       "      <td>ALB</td>\n",
       "      <td>2020-06-01</td>\n",
       "      <td>Albania</td>\n",
       "      <td>1137</td>\n",
       "      <td>33</td>\n",
       "      <td>395.093</td>\n",
       "      <td>11.467</td>\n",
       "      <td>2877800.0</td>\n",
       "      <td>104.871</td>\n",
       "      <td>38.0</td>\n",
       "      <td>11803.431</td>\n",
       "      <td>2.89</td>\n",
       "    </tr>\n",
       "    <tr>\n",
       "      <th>2</th>\n",
       "      <td>DZA</td>\n",
       "      <td>2020-06-01</td>\n",
       "      <td>Algeria</td>\n",
       "      <td>9394</td>\n",
       "      <td>653</td>\n",
       "      <td>214.225</td>\n",
       "      <td>14.891</td>\n",
       "      <td>43851043.0</td>\n",
       "      <td>17.348</td>\n",
       "      <td>29.1</td>\n",
       "      <td>13913.839</td>\n",
       "      <td>1.90</td>\n",
       "    </tr>\n",
       "    <tr>\n",
       "      <th>3</th>\n",
       "      <td>AND</td>\n",
       "      <td>2020-06-01</td>\n",
       "      <td>Andorra</td>\n",
       "      <td>764</td>\n",
       "      <td>51</td>\n",
       "      <td>9888.048</td>\n",
       "      <td>660.066</td>\n",
       "      <td>77265.0</td>\n",
       "      <td>163.755</td>\n",
       "      <td>NaN</td>\n",
       "      <td>NaN</td>\n",
       "      <td>NaN</td>\n",
       "    </tr>\n",
       "    <tr>\n",
       "      <th>4</th>\n",
       "      <td>AGO</td>\n",
       "      <td>2020-06-01</td>\n",
       "      <td>Angola</td>\n",
       "      <td>86</td>\n",
       "      <td>4</td>\n",
       "      <td>2.617</td>\n",
       "      <td>0.122</td>\n",
       "      <td>32866268.0</td>\n",
       "      <td>23.890</td>\n",
       "      <td>16.8</td>\n",
       "      <td>5819.495</td>\n",
       "      <td>NaN</td>\n",
       "    </tr>\n",
       "  </tbody>\n",
       "</table>\n",
       "</div>"
      ],
      "text/plain": [
       "  iso_code   lastdate     location  total_cases  total_deaths  total_cases_pm  \\\n",
       "0      AFG 2020-06-01  Afghanistan        15205           257         390.589   \n",
       "1      ALB 2020-06-01      Albania         1137            33         395.093   \n",
       "2      DZA 2020-06-01      Algeria         9394           653         214.225   \n",
       "3      AND 2020-06-01      Andorra          764            51        9888.048   \n",
       "4      AGO 2020-06-01       Angola           86             4           2.617   \n",
       "\n",
       "   total_deaths_pm  population  pop_density  median_age  gdp_per_capita  \\\n",
       "0            6.602  38928341.0       54.422        18.6        1803.987   \n",
       "1           11.467   2877800.0      104.871        38.0       11803.431   \n",
       "2           14.891  43851043.0       17.348        29.1       13913.839   \n",
       "3          660.066     77265.0      163.755         NaN             NaN   \n",
       "4            0.122  32866268.0       23.890        16.8        5819.495   \n",
       "\n",
       "   hosp_beds  \n",
       "0       0.50  \n",
       "1       2.89  \n",
       "2       1.90  \n",
       "3        NaN  \n",
       "4        NaN  "
      ]
     },
     "execution_count": 5,
     "metadata": {},
     "output_type": "execute_result"
    }
   ],
   "source": [
    "covidtotals = pd.read_csv('covidtotals.csv', parse_dates=['lastdate'])\n",
    "covidtotals.head(5)"
   ]
  },
  {
   "cell_type": "code",
   "execution_count": 6,
   "metadata": {},
   "outputs": [
    {
     "name": "stdout",
     "output_type": "stream",
     "text": [
      "<class 'pandas.core.frame.DataFrame'>\n",
      "RangeIndex: 210 entries, 0 to 209\n",
      "Data columns (total 12 columns):\n",
      " #   Column           Non-Null Count  Dtype         \n",
      "---  ------           --------------  -----         \n",
      " 0   iso_code         210 non-null    object        \n",
      " 1   lastdate         210 non-null    datetime64[ns]\n",
      " 2   location         210 non-null    object        \n",
      " 3   total_cases      210 non-null    int64         \n",
      " 4   total_deaths     210 non-null    int64         \n",
      " 5   total_cases_pm   209 non-null    float64       \n",
      " 6   total_deaths_pm  209 non-null    float64       \n",
      " 7   population       210 non-null    float64       \n",
      " 8   pop_density      198 non-null    float64       \n",
      " 9   median_age       186 non-null    float64       \n",
      " 10  gdp_per_capita   182 non-null    float64       \n",
      " 11  hosp_beds        164 non-null    float64       \n",
      "dtypes: datetime64[ns](1), float64(7), int64(2), object(2)\n",
      "memory usage: 19.8+ KB\n"
     ]
    }
   ],
   "source": [
    "covidtotals.info()"
   ]
  },
  {
   "cell_type": "code",
   "execution_count": 7,
   "metadata": {},
   "outputs": [
    {
     "data": {
      "text/plain": [
       "Int64Index([100061, 100139, 100284, 100292, 100583, 100833, 100931, 101089,\n",
       "            101122, 101132,\n",
       "            ...\n",
       "            998997, 999031, 999053, 999087, 999103, 999291, 999406, 999543,\n",
       "            999698, 999963],\n",
       "           dtype='int64', name='personid', length=8984)"
      ]
     },
     "execution_count": 7,
     "metadata": {},
     "output_type": "execute_result"
    }
   ],
   "source": [
    "nls97.set_index('personid', inplace=True)\n",
    "nls97.index"
   ]
  },
  {
   "cell_type": "code",
   "execution_count": 8,
   "metadata": {},
   "outputs": [
    {
     "data": {
      "text/plain": [
       "(8984, 88)"
      ]
     },
     "execution_count": 8,
     "metadata": {},
     "output_type": "execute_result"
    }
   ],
   "source": [
    "nls97.shape"
   ]
  },
  {
   "cell_type": "code",
   "execution_count": 9,
   "metadata": {},
   "outputs": [
    {
     "data": {
      "text/plain": [
       "8984"
      ]
     },
     "execution_count": 9,
     "metadata": {},
     "output_type": "execute_result"
    }
   ],
   "source": [
    "nls97.index.nunique()"
   ]
  },
  {
   "cell_type": "code",
   "execution_count": 10,
   "metadata": {},
   "outputs": [
    {
     "name": "stdout",
     "output_type": "stream",
     "text": [
      "<class 'pandas.core.frame.DataFrame'>\n",
      "Int64Index: 8984 entries, 100061 to 999963\n",
      "Data columns (total 88 columns):\n",
      " #   Column                 Non-Null Count  Dtype  \n",
      "---  ------                 --------------  -----  \n",
      " 0   gender                 8984 non-null   object \n",
      " 1   birthmonth             8984 non-null   int64  \n",
      " 2   birthyear              8984 non-null   int64  \n",
      " 3   highestgradecompleted  6663 non-null   float64\n",
      " 4   maritalstatus          6672 non-null   object \n",
      " 5   childathome            4791 non-null   float64\n",
      " 6   childnotathome         4791 non-null   float64\n",
      " 7   wageincome             5091 non-null   float64\n",
      " 8   weeklyhrscomputer      6710 non-null   object \n",
      " 9   weeklyhrstv            6711 non-null   object \n",
      " 10  nightlyhrssleep        6706 non-null   float64\n",
      " 11  satverbal              1406 non-null   float64\n",
      " 12  satmath                1407 non-null   float64\n",
      " 13  gpaoverall             6004 non-null   float64\n",
      " 14  gpaenglish             5798 non-null   float64\n",
      " 15  gpamath                5766 non-null   float64\n",
      " 16  gpascience             5684 non-null   float64\n",
      " 17  highestdegree          8953 non-null   object \n",
      " 18  govprovidejobs         1833 non-null   object \n",
      " 19  govpricecontrols       1859 non-null   object \n",
      " 20  govhealthcare          1874 non-null   object \n",
      " 21  govelderliving         1872 non-null   object \n",
      " 22  govindhelp             1815 non-null   object \n",
      " 23  govunemp               1811 non-null   object \n",
      " 24  govincomediff          1775 non-null   object \n",
      " 25  govcollegefinance      1875 non-null   object \n",
      " 26  govdecenthousing       1847 non-null   object \n",
      " 27  govprotectenvironment  1860 non-null   object \n",
      " 28  weeksworked00          8603 non-null   float64\n",
      " 29  weeksworked01          8564 non-null   float64\n",
      " 30  weeksworked02          8556 non-null   float64\n",
      " 31  weeksworked03          8490 non-null   float64\n",
      " 32  weeksworked04          8458 non-null   float64\n",
      " 33  weeksworked05          8403 non-null   float64\n",
      " 34  weeksworked06          8340 non-null   float64\n",
      " 35  weeksworked07          8272 non-null   float64\n",
      " 36  weeksworked08          8186 non-null   float64\n",
      " 37  weeksworked09          8146 non-null   float64\n",
      " 38  weeksworked10          8054 non-null   float64\n",
      " 39  weeksworked11          7968 non-null   float64\n",
      " 40  weeksworked12          7747 non-null   float64\n",
      " 41  weeksworked13          7680 non-null   float64\n",
      " 42  weeksworked14          7612 non-null   float64\n",
      " 43  weeksworked15          7389 non-null   float64\n",
      " 44  weeksworked16          7068 non-null   float64\n",
      " 45  weeksworked17          6670 non-null   float64\n",
      " 46  colenrfeb97            1250 non-null   object \n",
      " 47  colenroct97            8501 non-null   object \n",
      " 48  colenrfeb98            8501 non-null   object \n",
      " 49  colenroct98            8888 non-null   object \n",
      " 50  colenrfeb99            8865 non-null   object \n",
      " 51  colenroct99            8851 non-null   object \n",
      " 52  colenrfeb00            8820 non-null   object \n",
      " 53  colenroct00            8805 non-null   object \n",
      " 54  colenrfeb01            8786 non-null   object \n",
      " 55  colenroct01            8758 non-null   object \n",
      " 56  colenrfeb02            8732 non-null   object \n",
      " 57  colenroct02            8698 non-null   object \n",
      " 58  colenrfeb03            8658 non-null   object \n",
      " 59  colenroct03            8622 non-null   object \n",
      " 60  colenrfeb04            8578 non-null   object \n",
      " 61  colenroct04            8546 non-null   object \n",
      " 62  colenrfeb05            8508 non-null   object \n",
      " 63  colenroct05            8471 non-null   object \n",
      " 64  colenrfeb06            8426 non-null   object \n",
      " 65  colenroct06            8407 non-null   object \n",
      " 66  colenrfeb07            8352 non-null   object \n",
      " 67  colenroct07            8331 non-null   object \n",
      " 68  colenrfeb08            8289 non-null   object \n",
      " 69  colenroct08            8280 non-null   object \n",
      " 70  colenrfeb09            8236 non-null   object \n",
      " 71  colenroct09            8193 non-null   object \n",
      " 72  colenrfeb10            8116 non-null   object \n",
      " 73  colenroct10            8091 non-null   object \n",
      " 74  colenrfeb11            8037 non-null   object \n",
      " 75  colenroct11            7972 non-null   object \n",
      " 76  colenrfeb12            7794 non-null   object \n",
      " 77  colenroct12            7754 non-null   object \n",
      " 78  colenrfeb13            7754 non-null   object \n",
      " 79  colenroct13            7754 non-null   object \n",
      " 80  colenrfeb14            7624 non-null   object \n",
      " 81  colenroct14            7469 non-null   object \n",
      " 82  colenrfeb15            7469 non-null   object \n",
      " 83  colenroct15            7469 non-null   object \n",
      " 84  colenrfeb16            7036 non-null   object \n",
      " 85  colenroct16            6733 non-null   object \n",
      " 86  colenrfeb17            6733 non-null   object \n",
      " 87  colenroct17            6734 non-null   object \n",
      "dtypes: float64(29), int64(2), object(57)\n",
      "memory usage: 6.1+ MB\n"
     ]
    }
   ],
   "source": [
    "nls97.info()"
   ]
  },
  {
   "cell_type": "code",
   "execution_count": 11,
   "metadata": {},
   "outputs": [
    {
     "data": {
      "text/html": [
       "<div>\n",
       "<style scoped>\n",
       "    .dataframe tbody tr th:only-of-type {\n",
       "        vertical-align: middle;\n",
       "    }\n",
       "\n",
       "    .dataframe tbody tr th {\n",
       "        vertical-align: top;\n",
       "    }\n",
       "\n",
       "    .dataframe thead th {\n",
       "        text-align: right;\n",
       "    }\n",
       "</style>\n",
       "<table border=\"1\" class=\"dataframe\">\n",
       "  <thead>\n",
       "    <tr style=\"text-align: right;\">\n",
       "      <th>personid</th>\n",
       "      <th>100061</th>\n",
       "      <th>100139</th>\n",
       "    </tr>\n",
       "  </thead>\n",
       "  <tbody>\n",
       "    <tr>\n",
       "      <th>gender</th>\n",
       "      <td>Female</td>\n",
       "      <td>Male</td>\n",
       "    </tr>\n",
       "    <tr>\n",
       "      <th>birthmonth</th>\n",
       "      <td>5</td>\n",
       "      <td>9</td>\n",
       "    </tr>\n",
       "    <tr>\n",
       "      <th>birthyear</th>\n",
       "      <td>1980</td>\n",
       "      <td>1983</td>\n",
       "    </tr>\n",
       "    <tr>\n",
       "      <th>highestgradecompleted</th>\n",
       "      <td>13.0</td>\n",
       "      <td>12.0</td>\n",
       "    </tr>\n",
       "    <tr>\n",
       "      <th>maritalstatus</th>\n",
       "      <td>Married</td>\n",
       "      <td>Married</td>\n",
       "    </tr>\n",
       "    <tr>\n",
       "      <th>...</th>\n",
       "      <td>...</td>\n",
       "      <td>...</td>\n",
       "    </tr>\n",
       "    <tr>\n",
       "      <th>colenroct15</th>\n",
       "      <td>1. Not enrolled</td>\n",
       "      <td>1. Not enrolled</td>\n",
       "    </tr>\n",
       "    <tr>\n",
       "      <th>colenrfeb16</th>\n",
       "      <td>1. Not enrolled</td>\n",
       "      <td>1. Not enrolled</td>\n",
       "    </tr>\n",
       "    <tr>\n",
       "      <th>colenroct16</th>\n",
       "      <td>1. Not enrolled</td>\n",
       "      <td>1. Not enrolled</td>\n",
       "    </tr>\n",
       "    <tr>\n",
       "      <th>colenrfeb17</th>\n",
       "      <td>1. Not enrolled</td>\n",
       "      <td>1. Not enrolled</td>\n",
       "    </tr>\n",
       "    <tr>\n",
       "      <th>colenroct17</th>\n",
       "      <td>1. Not enrolled</td>\n",
       "      <td>1. Not enrolled</td>\n",
       "    </tr>\n",
       "  </tbody>\n",
       "</table>\n",
       "<p>88 rows × 2 columns</p>\n",
       "</div>"
      ],
      "text/plain": [
       "personid                        100061           100139\n",
       "gender                          Female             Male\n",
       "birthmonth                           5                9\n",
       "birthyear                         1980             1983\n",
       "highestgradecompleted             13.0             12.0\n",
       "maritalstatus                  Married          Married\n",
       "...                                ...              ...\n",
       "colenroct15            1. Not enrolled  1. Not enrolled\n",
       "colenrfeb16            1. Not enrolled  1. Not enrolled\n",
       "colenroct16            1. Not enrolled  1. Not enrolled\n",
       "colenrfeb17            1. Not enrolled  1. Not enrolled\n",
       "colenroct17            1. Not enrolled  1. Not enrolled\n",
       "\n",
       "[88 rows x 2 columns]"
      ]
     },
     "execution_count": 11,
     "metadata": {},
     "output_type": "execute_result"
    }
   ],
   "source": [
    "nls97.head(2).T"
   ]
  },
  {
   "cell_type": "code",
   "execution_count": 12,
   "metadata": {},
   "outputs": [
    {
     "data": {
      "text/plain": [
       "Index(['AFG', 'ALB', 'DZA', 'AND', 'AGO', 'AIA', 'ATG', 'ARG', 'ARM', 'ABW',\n",
       "       ...\n",
       "       'VIR', 'URY', 'UZB', 'VAT', 'VEN', 'VNM', 'ESH', 'YEM', 'ZMB', 'ZWE'],\n",
       "      dtype='object', name='iso_code', length=210)"
      ]
     },
     "execution_count": 12,
     "metadata": {},
     "output_type": "execute_result"
    }
   ],
   "source": [
    "covidtotals.set_index('iso_code', inplace=True)\n",
    "covidtotals.index"
   ]
  },
  {
   "cell_type": "code",
   "execution_count": 13,
   "metadata": {},
   "outputs": [
    {
     "data": {
      "text/plain": [
       "(210, 11)"
      ]
     },
     "execution_count": 13,
     "metadata": {},
     "output_type": "execute_result"
    }
   ],
   "source": [
    "covidtotals.shape"
   ]
  },
  {
   "cell_type": "code",
   "execution_count": 14,
   "metadata": {},
   "outputs": [
    {
     "data": {
      "text/plain": [
       "210"
      ]
     },
     "execution_count": 14,
     "metadata": {},
     "output_type": "execute_result"
    }
   ],
   "source": [
    "covidtotals.index.nunique()"
   ]
  },
  {
   "cell_type": "code",
   "execution_count": 15,
   "metadata": {},
   "outputs": [
    {
     "name": "stdout",
     "output_type": "stream",
     "text": [
      "<class 'pandas.core.frame.DataFrame'>\n",
      "Index: 210 entries, AFG to ZWE\n",
      "Data columns (total 11 columns):\n",
      " #   Column           Non-Null Count  Dtype         \n",
      "---  ------           --------------  -----         \n",
      " 0   lastdate         210 non-null    datetime64[ns]\n",
      " 1   location         210 non-null    object        \n",
      " 2   total_cases      210 non-null    int64         \n",
      " 3   total_deaths     210 non-null    int64         \n",
      " 4   total_cases_pm   209 non-null    float64       \n",
      " 5   total_deaths_pm  209 non-null    float64       \n",
      " 6   population       210 non-null    float64       \n",
      " 7   pop_density      198 non-null    float64       \n",
      " 8   median_age       186 non-null    float64       \n",
      " 9   gdp_per_capita   182 non-null    float64       \n",
      " 10  hosp_beds        164 non-null    float64       \n",
      "dtypes: datetime64[ns](1), float64(7), int64(2), object(1)\n",
      "memory usage: 19.7+ KB\n"
     ]
    }
   ],
   "source": [
    "covidtotals.info()"
   ]
  },
  {
   "cell_type": "code",
   "execution_count": 16,
   "metadata": {},
   "outputs": [
    {
     "data": {
      "text/html": [
       "<div>\n",
       "<style scoped>\n",
       "    .dataframe tbody tr th:only-of-type {\n",
       "        vertical-align: middle;\n",
       "    }\n",
       "\n",
       "    .dataframe tbody tr th {\n",
       "        vertical-align: top;\n",
       "    }\n",
       "\n",
       "    .dataframe thead th {\n",
       "        text-align: right;\n",
       "    }\n",
       "</style>\n",
       "<table border=\"1\" class=\"dataframe\">\n",
       "  <thead>\n",
       "    <tr style=\"text-align: right;\">\n",
       "      <th></th>\n",
       "      <th>gender</th>\n",
       "      <th>birthmonth</th>\n",
       "      <th>birthyear</th>\n",
       "      <th>highestgradecompleted</th>\n",
       "      <th>maritalstatus</th>\n",
       "      <th>childathome</th>\n",
       "      <th>childnotathome</th>\n",
       "      <th>wageincome</th>\n",
       "      <th>weeklyhrscomputer</th>\n",
       "      <th>weeklyhrstv</th>\n",
       "      <th>...</th>\n",
       "      <th>colenrfeb13</th>\n",
       "      <th>colenroct13</th>\n",
       "      <th>colenrfeb14</th>\n",
       "      <th>colenroct14</th>\n",
       "      <th>colenrfeb15</th>\n",
       "      <th>colenroct15</th>\n",
       "      <th>colenrfeb16</th>\n",
       "      <th>colenroct16</th>\n",
       "      <th>colenrfeb17</th>\n",
       "      <th>colenroct17</th>\n",
       "    </tr>\n",
       "    <tr>\n",
       "      <th>personid</th>\n",
       "      <th></th>\n",
       "      <th></th>\n",
       "      <th></th>\n",
       "      <th></th>\n",
       "      <th></th>\n",
       "      <th></th>\n",
       "      <th></th>\n",
       "      <th></th>\n",
       "      <th></th>\n",
       "      <th></th>\n",
       "      <th></th>\n",
       "      <th></th>\n",
       "      <th></th>\n",
       "      <th></th>\n",
       "      <th></th>\n",
       "      <th></th>\n",
       "      <th></th>\n",
       "      <th></th>\n",
       "      <th></th>\n",
       "      <th></th>\n",
       "      <th></th>\n",
       "    </tr>\n",
       "  </thead>\n",
       "  <tbody>\n",
       "    <tr>\n",
       "      <th>100061</th>\n",
       "      <td>Female</td>\n",
       "      <td>5</td>\n",
       "      <td>1980</td>\n",
       "      <td>13.0</td>\n",
       "      <td>Married</td>\n",
       "      <td>4.0</td>\n",
       "      <td>0.0</td>\n",
       "      <td>12500.0</td>\n",
       "      <td>10 hours or more a week</td>\n",
       "      <td>11 to 20 hours a week</td>\n",
       "      <td>...</td>\n",
       "      <td>1. Not enrolled</td>\n",
       "      <td>1. Not enrolled</td>\n",
       "      <td>1. Not enrolled</td>\n",
       "      <td>1. Not enrolled</td>\n",
       "      <td>1. Not enrolled</td>\n",
       "      <td>1. Not enrolled</td>\n",
       "      <td>1. Not enrolled</td>\n",
       "      <td>1. Not enrolled</td>\n",
       "      <td>1. Not enrolled</td>\n",
       "      <td>1. Not enrolled</td>\n",
       "    </tr>\n",
       "    <tr>\n",
       "      <th>100139</th>\n",
       "      <td>Male</td>\n",
       "      <td>9</td>\n",
       "      <td>1983</td>\n",
       "      <td>12.0</td>\n",
       "      <td>Married</td>\n",
       "      <td>2.0</td>\n",
       "      <td>0.0</td>\n",
       "      <td>120000.0</td>\n",
       "      <td>1 to 3 hours a week</td>\n",
       "      <td>3 to 10 hours a week</td>\n",
       "      <td>...</td>\n",
       "      <td>1. Not enrolled</td>\n",
       "      <td>1. Not enrolled</td>\n",
       "      <td>1. Not enrolled</td>\n",
       "      <td>1. Not enrolled</td>\n",
       "      <td>1. Not enrolled</td>\n",
       "      <td>1. Not enrolled</td>\n",
       "      <td>1. Not enrolled</td>\n",
       "      <td>1. Not enrolled</td>\n",
       "      <td>1. Not enrolled</td>\n",
       "      <td>1. Not enrolled</td>\n",
       "    </tr>\n",
       "    <tr>\n",
       "      <th>100284</th>\n",
       "      <td>Male</td>\n",
       "      <td>11</td>\n",
       "      <td>1984</td>\n",
       "      <td>7.0</td>\n",
       "      <td>Never-married</td>\n",
       "      <td>1.0</td>\n",
       "      <td>0.0</td>\n",
       "      <td>58000.0</td>\n",
       "      <td>None</td>\n",
       "      <td>11 to 20 hours a week</td>\n",
       "      <td>...</td>\n",
       "      <td>1. Not enrolled</td>\n",
       "      <td>1. Not enrolled</td>\n",
       "      <td>1. Not enrolled</td>\n",
       "      <td>1. Not enrolled</td>\n",
       "      <td>1. Not enrolled</td>\n",
       "      <td>1. Not enrolled</td>\n",
       "      <td>1. Not enrolled</td>\n",
       "      <td>1. Not enrolled</td>\n",
       "      <td>1. Not enrolled</td>\n",
       "      <td>1. Not enrolled</td>\n",
       "    </tr>\n",
       "    <tr>\n",
       "      <th>100292</th>\n",
       "      <td>Male</td>\n",
       "      <td>4</td>\n",
       "      <td>1982</td>\n",
       "      <td>NaN</td>\n",
       "      <td>NaN</td>\n",
       "      <td>NaN</td>\n",
       "      <td>NaN</td>\n",
       "      <td>NaN</td>\n",
       "      <td>NaN</td>\n",
       "      <td>NaN</td>\n",
       "      <td>...</td>\n",
       "      <td>1. Not enrolled</td>\n",
       "      <td>1. Not enrolled</td>\n",
       "      <td>1. Not enrolled</td>\n",
       "      <td>1. Not enrolled</td>\n",
       "      <td>1. Not enrolled</td>\n",
       "      <td>1. Not enrolled</td>\n",
       "      <td>NaN</td>\n",
       "      <td>NaN</td>\n",
       "      <td>NaN</td>\n",
       "      <td>NaN</td>\n",
       "    </tr>\n",
       "  </tbody>\n",
       "</table>\n",
       "<p>4 rows × 88 columns</p>\n",
       "</div>"
      ],
      "text/plain": [
       "          gender  birthmonth  birthyear  highestgradecompleted  maritalstatus  \\\n",
       "personid                                                                        \n",
       "100061    Female           5       1980                   13.0        Married   \n",
       "100139      Male           9       1983                   12.0        Married   \n",
       "100284      Male          11       1984                    7.0  Never-married   \n",
       "100292      Male           4       1982                    NaN            NaN   \n",
       "\n",
       "          childathome  childnotathome  wageincome        weeklyhrscomputer  \\\n",
       "personid                                                                     \n",
       "100061            4.0             0.0     12500.0  10 hours or more a week   \n",
       "100139            2.0             0.0    120000.0      1 to 3 hours a week   \n",
       "100284            1.0             0.0     58000.0                     None   \n",
       "100292            NaN             NaN         NaN                      NaN   \n",
       "\n",
       "                    weeklyhrstv  ...      colenrfeb13      colenroct13  \\\n",
       "personid                         ...                                     \n",
       "100061    11 to 20 hours a week  ...  1. Not enrolled  1. Not enrolled   \n",
       "100139     3 to 10 hours a week  ...  1. Not enrolled  1. Not enrolled   \n",
       "100284    11 to 20 hours a week  ...  1. Not enrolled  1. Not enrolled   \n",
       "100292                      NaN  ...  1. Not enrolled  1. Not enrolled   \n",
       "\n",
       "              colenrfeb14      colenroct14      colenrfeb15      colenroct15  \\\n",
       "personid                                                                       \n",
       "100061    1. Not enrolled  1. Not enrolled  1. Not enrolled  1. Not enrolled   \n",
       "100139    1. Not enrolled  1. Not enrolled  1. Not enrolled  1. Not enrolled   \n",
       "100284    1. Not enrolled  1. Not enrolled  1. Not enrolled  1. Not enrolled   \n",
       "100292    1. Not enrolled  1. Not enrolled  1. Not enrolled  1. Not enrolled   \n",
       "\n",
       "              colenrfeb16      colenroct16      colenrfeb17      colenroct17  \n",
       "personid                                                                      \n",
       "100061    1. Not enrolled  1. Not enrolled  1. Not enrolled  1. Not enrolled  \n",
       "100139    1. Not enrolled  1. Not enrolled  1. Not enrolled  1. Not enrolled  \n",
       "100284    1. Not enrolled  1. Not enrolled  1. Not enrolled  1. Not enrolled  \n",
       "100292                NaN              NaN              NaN              NaN  \n",
       "\n",
       "[4 rows x 88 columns]"
      ]
     },
     "execution_count": 16,
     "metadata": {},
     "output_type": "execute_result"
    }
   ],
   "source": [
    "nls97.head(4)"
   ]
  },
  {
   "cell_type": "code",
   "execution_count": 17,
   "metadata": {},
   "outputs": [
    {
     "data": {
      "text/html": [
       "<div>\n",
       "<style scoped>\n",
       "    .dataframe tbody tr th:only-of-type {\n",
       "        vertical-align: middle;\n",
       "    }\n",
       "\n",
       "    .dataframe tbody tr th {\n",
       "        vertical-align: top;\n",
       "    }\n",
       "\n",
       "    .dataframe thead th {\n",
       "        text-align: right;\n",
       "    }\n",
       "</style>\n",
       "<table border=\"1\" class=\"dataframe\">\n",
       "  <thead>\n",
       "    <tr style=\"text-align: right;\">\n",
       "      <th>iso_code</th>\n",
       "      <th>COG</th>\n",
       "      <th>THA</th>\n",
       "    </tr>\n",
       "  </thead>\n",
       "  <tbody>\n",
       "    <tr>\n",
       "      <th>lastdate</th>\n",
       "      <td>2020-06-01 00:00:00</td>\n",
       "      <td>2020-06-01 00:00:00</td>\n",
       "    </tr>\n",
       "    <tr>\n",
       "      <th>location</th>\n",
       "      <td>Congo</td>\n",
       "      <td>Thailand</td>\n",
       "    </tr>\n",
       "    <tr>\n",
       "      <th>total_cases</th>\n",
       "      <td>611</td>\n",
       "      <td>3081</td>\n",
       "    </tr>\n",
       "    <tr>\n",
       "      <th>total_deaths</th>\n",
       "      <td>20</td>\n",
       "      <td>57</td>\n",
       "    </tr>\n",
       "    <tr>\n",
       "      <th>total_cases_pm</th>\n",
       "      <td>110.727</td>\n",
       "      <td>44.14</td>\n",
       "    </tr>\n",
       "    <tr>\n",
       "      <th>total_deaths_pm</th>\n",
       "      <td>3.624</td>\n",
       "      <td>0.817</td>\n",
       "    </tr>\n",
       "    <tr>\n",
       "      <th>population</th>\n",
       "      <td>5518092.0</td>\n",
       "      <td>69799978.0</td>\n",
       "    </tr>\n",
       "    <tr>\n",
       "      <th>pop_density</th>\n",
       "      <td>15.405</td>\n",
       "      <td>135.132</td>\n",
       "    </tr>\n",
       "    <tr>\n",
       "      <th>median_age</th>\n",
       "      <td>19.0</td>\n",
       "      <td>40.1</td>\n",
       "    </tr>\n",
       "    <tr>\n",
       "      <th>gdp_per_capita</th>\n",
       "      <td>4881.406</td>\n",
       "      <td>16277.671</td>\n",
       "    </tr>\n",
       "    <tr>\n",
       "      <th>hosp_beds</th>\n",
       "      <td>NaN</td>\n",
       "      <td>2.1</td>\n",
       "    </tr>\n",
       "  </tbody>\n",
       "</table>\n",
       "</div>"
      ],
      "text/plain": [
       "iso_code                         COG                  THA\n",
       "lastdate         2020-06-01 00:00:00  2020-06-01 00:00:00\n",
       "location                       Congo             Thailand\n",
       "total_cases                      611                 3081\n",
       "total_deaths                      20                   57\n",
       "total_cases_pm               110.727                44.14\n",
       "total_deaths_pm                3.624                0.817\n",
       "population                 5518092.0           69799978.0\n",
       "pop_density                   15.405              135.132\n",
       "median_age                      19.0                 40.1\n",
       "gdp_per_capita              4881.406            16277.671\n",
       "hosp_beds                        NaN                  2.1"
      ]
     },
     "execution_count": 17,
     "metadata": {},
     "output_type": "execute_result"
    }
   ],
   "source": [
    "covidtotals.sample(2, random_state=1).T"
   ]
  },
  {
   "cell_type": "code",
   "execution_count": 18,
   "metadata": {},
   "outputs": [],
   "source": [
    "select = nls97[['gender', 'maritalstatus']]"
   ]
  },
  {
   "cell_type": "code",
   "execution_count": 19,
   "metadata": {},
   "outputs": [
    {
     "ename": "KeyError",
     "evalue": "\"None of ['personid'] are in the columns\"",
     "output_type": "error",
     "traceback": [
      "\u001b[1;31m---------------------------------------------------------------------------\u001b[0m",
      "\u001b[1;31mKeyError\u001b[0m                                  Traceback (most recent call last)",
      "\u001b[1;32m<ipython-input-19-f9e3468d05b4>\u001b[0m in \u001b[0;36m<module>\u001b[1;34m\u001b[0m\n\u001b[1;32m----> 1\u001b[1;33m \u001b[0mselect\u001b[0m\u001b[1;33m.\u001b[0m\u001b[0mset_index\u001b[0m\u001b[1;33m(\u001b[0m\u001b[1;34m'personid'\u001b[0m\u001b[1;33m)\u001b[0m\u001b[1;33m\u001b[0m\u001b[1;33m\u001b[0m\u001b[0m\n\u001b[0m",
      "\u001b[1;32mc:\\Users\\jenny\\venvs\\py39\\lib\\site-packages\\pandas\\core\\frame.py\u001b[0m in \u001b[0;36mset_index\u001b[1;34m(self, keys, drop, append, inplace, verify_integrity)\u001b[0m\n\u001b[0;32m   4722\u001b[0m \u001b[1;33m\u001b[0m\u001b[0m\n\u001b[0;32m   4723\u001b[0m         \u001b[1;32mif\u001b[0m \u001b[0mmissing\u001b[0m\u001b[1;33m:\u001b[0m\u001b[1;33m\u001b[0m\u001b[1;33m\u001b[0m\u001b[0m\n\u001b[1;32m-> 4724\u001b[1;33m             \u001b[1;32mraise\u001b[0m \u001b[0mKeyError\u001b[0m\u001b[1;33m(\u001b[0m\u001b[1;34mf\"None of {missing} are in the columns\"\u001b[0m\u001b[1;33m)\u001b[0m\u001b[1;33m\u001b[0m\u001b[1;33m\u001b[0m\u001b[0m\n\u001b[0m\u001b[0;32m   4725\u001b[0m \u001b[1;33m\u001b[0m\u001b[0m\n\u001b[0;32m   4726\u001b[0m         \u001b[1;32mif\u001b[0m \u001b[0minplace\u001b[0m\u001b[1;33m:\u001b[0m\u001b[1;33m\u001b[0m\u001b[1;33m\u001b[0m\u001b[0m\n",
      "\u001b[1;31mKeyError\u001b[0m: \"None of ['personid'] are in the columns\""
     ]
    }
   ],
   "source": [
    "select.set_index('personid')"
   ]
  },
  {
   "cell_type": "markdown",
   "metadata": {},
   "source": [
    "Selecting and Organizing Columns"
   ]
  },
  {
   "cell_type": "code",
   "execution_count": null,
   "metadata": {},
   "outputs": [],
   "source": [
    "import pandas as pd\n",
    "import numpy as np\n",
    "os.chdir(\"C:\\\\Users\\\\jenny\\\\venvs\\\\py39\\\\Python-Data-Cleaning-Cookbook-master\\\\Chapter03\\\\data\")\n",
    "nls97 = pd.read_csv(\"nls97.csv\")\n",
    "nls97.set_index(\"personid\", inplace=True)\n",
    "nls97.head(3)\n"
   ]
  },
  {
   "cell_type": "code",
   "execution_count": null,
   "metadata": {},
   "outputs": [],
   "source": [
    "nls97.info()"
   ]
  },
  {
   "cell_type": "code",
   "execution_count": null,
   "metadata": {},
   "outputs": [],
   "source": [
    "nls97.loc[:, nls97.dtypes == 'object'] = nls97.select_dtypes(['object']).apply(lambda x:x.astype('category'))"
   ]
  },
  {
   "cell_type": "code",
   "execution_count": null,
   "metadata": {},
   "outputs": [],
   "source": [
    "nls97.info()"
   ]
  },
  {
   "cell_type": "code",
   "execution_count": null,
   "metadata": {},
   "outputs": [],
   "source": [
    "analysisdemo = nls97['gender']\n",
    "type(analysisdemo)"
   ]
  },
  {
   "cell_type": "code",
   "execution_count": null,
   "metadata": {},
   "outputs": [],
   "source": [
    "analysisdemo = nls97[['gender']]\n",
    "type(analysisdemo)"
   ]
  },
  {
   "cell_type": "code",
   "execution_count": null,
   "metadata": {},
   "outputs": [],
   "source": [
    "analysisdemo = nls97.loc[:, ['gender']]\n",
    "type(analysisdemo)"
   ]
  },
  {
   "cell_type": "code",
   "execution_count": null,
   "metadata": {},
   "outputs": [],
   "source": [
    "analysisdemo = nls97.iloc[:, [0]]\n",
    "type(analysisdemo)"
   ]
  },
  {
   "cell_type": "code",
   "execution_count": null,
   "metadata": {},
   "outputs": [],
   "source": [
    "analysisdemo = nls97[['gender', 'maritalstatus', 'highestgradecompleted']]\n",
    "analysisdemo.shape"
   ]
  },
  {
   "cell_type": "code",
   "execution_count": null,
   "metadata": {},
   "outputs": [],
   "source": [
    "analysisdemo.head()"
   ]
  },
  {
   "cell_type": "code",
   "execution_count": null,
   "metadata": {},
   "outputs": [],
   "source": [
    "analysisdemo = nls97.loc[:, ['gender', 'maritalstatus', 'highestgradecompleted']]\n",
    "analysisdemo.shape"
   ]
  },
  {
   "cell_type": "code",
   "execution_count": null,
   "metadata": {},
   "outputs": [],
   "source": [
    "analysisdemo.head()"
   ]
  },
  {
   "cell_type": "code",
   "execution_count": null,
   "metadata": {},
   "outputs": [],
   "source": [
    "keyvars = ['gender', 'maritalstatus', 'highestgradecompleted', 'wageincome', 'gpaoverall', 'weeksworked17', 'colenroct17']\n",
    "analysiskeys = nls97[keyvars]\n",
    "analysiskeys.info()"
   ]
  },
  {
   "cell_type": "code",
   "execution_count": null,
   "metadata": {},
   "outputs": [],
   "source": [
    "analysiswork = nls97.filter(like='weeksworked')\n",
    "analysiswork.info()"
   ]
  },
  {
   "cell_type": "code",
   "execution_count": null,
   "metadata": {},
   "outputs": [],
   "source": [
    "analysiscats = nls97.select_dtypes(include='category')  #analysiscats = nls97.select_dtypes(include=['category'])\n",
    "analysiscats.info()"
   ]
  },
  {
   "cell_type": "code",
   "execution_count": null,
   "metadata": {},
   "outputs": [],
   "source": [
    "analysisnums = nls97.select_dtypes(include='number')\n",
    "analysisnums.info()"
   ]
  },
  {
   "cell_type": "code",
   "execution_count": null,
   "metadata": {},
   "outputs": [],
   "source": [
    "demo = ['gender', 'birthmonth', 'birthyear']\n",
    "highschoolrecord = ['satverbal', 'satmath', 'gpaoverall']\n",
    "govresp = ['govprovidejobs','govpricecontrols',\n",
    "  'govhealthcare','govelderliving','govindhelp',\n",
    "  'govunemp','govincomediff','govcollegefinance',\n",
    "  'govdecenthousing','govprotectenvironment']\n",
    "demoadult = ['highestgradecompleted','maritalstatus',\n",
    "  'childathome','childnotathome','wageincome',\n",
    "  'weeklyhrscomputer','weeklyhrstv','nightlyhrssleep',\n",
    "  'highestdegree']\n",
    "weeksworked = ['weeksworked00','weeksworked01',\n",
    "  'weeksworked02','weeksworked03','weeksworked04',\n",
    "  'weeksworked05','weeksworked06',  'weeksworked07',\n",
    "  'weeksworked08','weeksworked09','weeksworked10',\n",
    "  'weeksworked11','weeksworked12','weeksworked13',\n",
    "  'weeksworked14','weeksworked15','weeksworked16',\n",
    "  'weeksworked17']\n",
    "colenr = ['colenrfeb97','colenroct97','colenrfeb98',\n",
    "  'colenroct98','colenrfeb99',  'colenroct99',\n",
    "  'colenrfeb00','colenroct00','colenrfeb01',\n",
    "  'colenroct01','colenrfeb02','colenroct02',\n",
    "  'colenrfeb03','colenroct03','colenrfeb04',\n",
    "  'colenroct04','colenrfeb05','colenroct05',\n",
    "  'colenrfeb06','colenroct06','colenrfeb07',\n",
    "  'colenroct07','colenrfeb08','colenroct08',\n",
    "  'colenrfeb09','colenroct09','colenrfeb10',\n",
    "  'colenroct10','colenrfeb11','colenroct11',\n",
    "  'colenrfeb12','colenroct12','colenrfeb13',\n",
    "  'colenroct13',  'colenrfeb14','colenroct14',\n",
    "  'colenrfeb15','colenroct15','colenrfeb16',\n",
    "  'colenroct16','colenrfeb17','colenroct17']"
   ]
  },
  {
   "cell_type": "code",
   "execution_count": null,
   "metadata": {},
   "outputs": [],
   "source": [
    "nls97 = nls97[demoadult + demo + highschoolrecord + \\\n",
    "  govresp + weeksworked + colenr]\n",
    "\n",
    "nls97.dtypes"
   ]
  },
  {
   "cell_type": "code",
   "execution_count": null,
   "metadata": {},
   "outputs": [],
   "source": [
    "nls97.select_dtypes(exclude='category').info()"
   ]
  },
  {
   "cell_type": "code",
   "execution_count": null,
   "metadata": {},
   "outputs": [],
   "source": [
    "nls97.filter(regex='income')"
   ]
  },
  {
   "cell_type": "markdown",
   "metadata": {},
   "source": [
    "Selecting Rows"
   ]
  },
  {
   "cell_type": "code",
   "execution_count": null,
   "metadata": {},
   "outputs": [],
   "source": [
    "import pandas as pd\n",
    "import numpy as np\n",
    "import os as os\n",
    "os.chdir('C:\\\\Users\\\\jenny\\\\venvs\\\\py39\\\\Python-Data-Cleaning-Cookbook-master\\\\Chapter03\\\\data')\n",
    "nls97 = pd.read_csv('nls97.csv')"
   ]
  },
  {
   "cell_type": "code",
   "execution_count": null,
   "metadata": {},
   "outputs": [],
   "source": [
    "nls97[1000:1004].T"
   ]
  },
  {
   "cell_type": "code",
   "execution_count": null,
   "metadata": {},
   "outputs": [],
   "source": [
    "nls97[1000:1004:2].T"
   ]
  },
  {
   "cell_type": "markdown",
   "metadata": {},
   "source": [
    "Lambda Function"
   ]
  },
  {
   "cell_type": "code",
   "execution_count": null,
   "metadata": {},
   "outputs": [],
   "source": [
    "x = lambda a: a+10\n",
    "print(x(5))"
   ]
  },
  {
   "cell_type": "code",
   "execution_count": null,
   "metadata": {},
   "outputs": [],
   "source": [
    "x = lambda a, b: a*b\n",
    "print(x(5,6))"
   ]
  },
  {
   "cell_type": "code",
   "execution_count": null,
   "metadata": {},
   "outputs": [],
   "source": [
    "x = lambda a, b, c: a+b+c\n",
    "print(x(5, 6, 2))"
   ]
  },
  {
   "cell_type": "code",
   "execution_count": null,
   "metadata": {},
   "outputs": [],
   "source": [
    "def myfunc(n):\n",
    "    return lambda a:a*n\n",
    "\n",
    "mydoubler = myfunc(2)\n",
    "print(mydoubler(11))"
   ]
  },
  {
   "cell_type": "markdown",
   "metadata": {},
   "source": [
    "Selecting Rows"
   ]
  },
  {
   "cell_type": "code",
   "execution_count": null,
   "metadata": {},
   "outputs": [],
   "source": [
    "import pandas as pd\n",
    "import numpy as np\n",
    "import os as os\n",
    "os.chdir('C:\\\\Users\\\\jenny\\\\venvs\\\\py39\\\\Python-Data-Cleaning-Cookbook-master\\\\Chapter03\\\\data')\n",
    "nls97 = pd.read_csv('nls97.csv')\n",
    "nls97.set_index(\"personid\", inplace=True)"
   ]
  },
  {
   "cell_type": "code",
   "execution_count": null,
   "metadata": {},
   "outputs": [],
   "source": [
    "nls97[1000:1004].T"
   ]
  },
  {
   "cell_type": "code",
   "execution_count": null,
   "metadata": {},
   "outputs": [],
   "source": [
    "nls97[1000:1004:2].T"
   ]
  },
  {
   "cell_type": "code",
   "execution_count": null,
   "metadata": {},
   "outputs": [],
   "source": [
    "nls97.head(3).T"
   ]
  },
  {
   "cell_type": "code",
   "execution_count": null,
   "metadata": {},
   "outputs": [],
   "source": [
    "nls97[:3].T"
   ]
  },
  {
   "cell_type": "code",
   "execution_count": null,
   "metadata": {},
   "outputs": [],
   "source": [
    "nls97.tail(3).T"
   ]
  },
  {
   "cell_type": "code",
   "execution_count": null,
   "metadata": {},
   "outputs": [],
   "source": [
    "nls97[-3:].T"
   ]
  },
  {
   "cell_type": "code",
   "execution_count": null,
   "metadata": {},
   "outputs": [],
   "source": [
    "nls97.loc[[195884,195891,195970]].T"
   ]
  },
  {
   "cell_type": "code",
   "execution_count": null,
   "metadata": {},
   "outputs": [],
   "source": [
    "nls97.loc[195884,195891,195970].T  # This is to show that this does not work.  Working solution is shown above. "
   ]
  },
  {
   "cell_type": "code",
   "execution_count": null,
   "metadata": {},
   "outputs": [],
   "source": [
    "nls97.loc[195884:195970].T"
   ]
  },
  {
   "cell_type": "code",
   "execution_count": null,
   "metadata": {},
   "outputs": [],
   "source": [
    "nls97.iloc[[0]].T"
   ]
  },
  {
   "cell_type": "code",
   "execution_count": null,
   "metadata": {},
   "outputs": [],
   "source": [
    "nls97.iloc[[0,1,2]].T"
   ]
  },
  {
   "cell_type": "code",
   "execution_count": null,
   "metadata": {},
   "outputs": [],
   "source": [
    "nls97.iloc[0:3].T"
   ]
  },
  {
   "cell_type": "code",
   "execution_count": null,
   "metadata": {},
   "outputs": [],
   "source": [
    "nls97.iloc[[-3,-2,-1]].T"
   ]
  },
  {
   "cell_type": "code",
   "execution_count": null,
   "metadata": {},
   "outputs": [],
   "source": [
    "nls97.iloc[-3:].T"
   ]
  },
  {
   "cell_type": "code",
   "execution_count": null,
   "metadata": {},
   "outputs": [],
   "source": [
    "nls97.nightlyhrssleep.quantile(0.05)"
   ]
  },
  {
   "cell_type": "code",
   "execution_count": null,
   "metadata": {},
   "outputs": [],
   "source": [
    "nls97.nightlyhrssleep.count()"
   ]
  },
  {
   "cell_type": "code",
   "execution_count": null,
   "metadata": {},
   "outputs": [],
   "source": [
    "sleepcheckbool = nls97.nightlyhrssleep<=4\n",
    "sleepcheckbool"
   ]
  },
  {
   "cell_type": "code",
   "execution_count": null,
   "metadata": {},
   "outputs": [],
   "source": [
    "lowsleep = nls97.loc[sleepcheckbool]\n",
    "lowsleep.shape"
   ]
  },
  {
   "cell_type": "code",
   "execution_count": null,
   "metadata": {},
   "outputs": [],
   "source": [
    "lowsleep.head(3)"
   ]
  },
  {
   "cell_type": "code",
   "execution_count": null,
   "metadata": {},
   "outputs": [],
   "source": [
    "lowsleep.childathome.describe()"
   ]
  },
  {
   "cell_type": "code",
   "execution_count": null,
   "metadata": {},
   "outputs": [],
   "source": [
    "lowsleep3pluschildren = nls97.loc[(nls97.nightlyhrssleep<=4) & (nls97.childathome>=3), ['nightlyhrssleep', 'childathome']]\n",
    "lowsleep3pluschildren"
   ]
  },
  {
   "cell_type": "code",
   "execution_count": null,
   "metadata": {},
   "outputs": [],
   "source": [
    "pip list"
   ]
  },
  {
   "cell_type": "markdown",
   "metadata": {},
   "source": [
    "Generating Frequencies for Categorial Variables"
   ]
  },
  {
   "cell_type": "code",
   "execution_count": null,
   "metadata": {},
   "outputs": [],
   "source": [
    "import pandas as pd\n",
    "import os as os\n",
    "os.chdir('C:\\\\Users\\\\jenny\\\\venvs\\\\py39\\\\Python-Data-Cleaning-Cookbook-master\\\\Chapter03\\\\data')\n",
    "nls97 = pd.read_csv('nls97.csv')\n",
    "nls97.set_index(\"personid\", inplace=True)\n",
    "nls97.loc[:, nls97.dtypes == 'object'] = \\\n",
    "    nls97.select_dtypes('object').\\\n",
    "        apply(lambda x:x.astype('category'))  # Converting the columns iwth object data type ot category data type. "
   ]
  },
  {
   "cell_type": "code",
   "execution_count": null,
   "metadata": {},
   "outputs": [],
   "source": [
    "nls97.head(3)"
   ]
  },
  {
   "cell_type": "code",
   "execution_count": null,
   "metadata": {},
   "outputs": [],
   "source": [
    "nls97.info()"
   ]
  },
  {
   "cell_type": "code",
   "execution_count": null,
   "metadata": {},
   "outputs": [],
   "source": [
    "catcols = nls97.select_dtypes('category').columns\n",
    "nls97[catcols].isnull().sum()"
   ]
  },
  {
   "cell_type": "code",
   "execution_count": null,
   "metadata": {},
   "outputs": [],
   "source": [
    "nls97.maritalstatus.value_counts()"
   ]
  },
  {
   "cell_type": "code",
   "execution_count": null,
   "metadata": {},
   "outputs": [],
   "source": [
    "nls97.maritalstatus.value_counts(sort=False)"
   ]
  },
  {
   "cell_type": "code",
   "execution_count": null,
   "metadata": {},
   "outputs": [],
   "source": [
    "nls97.maritalstatus.value_counts(sort=False, normalize=True)"
   ]
  },
  {
   "cell_type": "code",
   "execution_count": null,
   "metadata": {},
   "outputs": [],
   "source": [
    "nls97.filter(like='gov').apply(pd.value_counts, normalize=True)"
   ]
  },
  {
   "cell_type": "code",
   "execution_count": null,
   "metadata": {},
   "outputs": [],
   "source": [
    "nls97.loc[(nls97.maritalstatus ==\"Married\")].filter(like=\"gov\").apply(pd.value_counts, normalize=True)"
   ]
  },
  {
   "cell_type": "code",
   "execution_count": null,
   "metadata": {},
   "outputs": [],
   "source": [
    "os.chdir('C:\\\\Users\\\\jenny\\\\venvs\\\\py39\\\\Python-Data-Cleaning-Cookbook-master\\\\Chapter03\\\\views')\n",
    "freqout = open('frequencies.text', 'w')\n",
    "\n",
    "for col in nls97.select_dtypes(include='category'):\n",
    "    print(col, \"-------------------------\", \"frequncies\",nls97[col].value_counts(sort=False),\\\n",
    "         \"percentages\", nls97[col].value_counts(normalize=True, sort=False),\\\n",
    "            sep=\"\\n\\n\", end=\"\\n\\n\\n\", file=freqout)\n",
    "\n",
    "freqout.close()"
   ]
  },
  {
   "cell_type": "markdown",
   "metadata": {},
   "source": [
    "Generating Summary Statisics for Continuous Variables"
   ]
  },
  {
   "cell_type": "code",
   "execution_count": null,
   "metadata": {},
   "outputs": [],
   "source": [
    "import pandas as pd\n",
    "import numpy as np\n",
    "import matplotlib.pyplot as plt\n",
    "import os\n",
    "os.chdir('C:\\\\Users\\\\jenny\\\\venvs\\\\py39\\\\Python-Data-Cleaning-Cookbook-master\\\\Chapter03\\\\data')\n",
    "covidtotals = pd.read_csv(\"covidtotals.csv\", parse_dates=['lastdate'])\n",
    "covidtotals.set_index(\"iso_code\", inplace=True)\n"
   ]
  },
  {
   "cell_type": "code",
   "execution_count": null,
   "metadata": {},
   "outputs": [],
   "source": [
    "covidtotals.shape"
   ]
  },
  {
   "cell_type": "code",
   "execution_count": null,
   "metadata": {},
   "outputs": [],
   "source": [
    "covidtotals.sample(2, random_state=1).T"
   ]
  },
  {
   "cell_type": "code",
   "execution_count": null,
   "metadata": {},
   "outputs": [],
   "source": [
    "covidtotals.dtypes"
   ]
  },
  {
   "cell_type": "code",
   "execution_count": null,
   "metadata": {},
   "outputs": [],
   "source": [
    "covidtotals.describe()"
   ]
  },
  {
   "cell_type": "code",
   "execution_count": null,
   "metadata": {},
   "outputs": [],
   "source": [
    "totvars = ['location', 'total_cases', 'total_deaths', 'total_cases_pm', 'total_deaths_pm']\n",
    "covidtotals[totvars].quantile(np.arange(0.0, 1.1, 0.1))\n"
   ]
  },
  {
   "cell_type": "code",
   "execution_count": null,
   "metadata": {},
   "outputs": [],
   "source": [
    "plt.hist(covidtotals['total_cases']/1000, bins=12)\n",
    "plt.title(\"Total Covid Cases\")\n",
    "plt.xlabel('Cases')\n",
    "plt.ylabel(\"Number of Countries\")\n",
    "plt.show()"
   ]
  },
  {
   "cell_type": "code",
   "execution_count": null,
   "metadata": {},
   "outputs": [],
   "source": []
  }
 ],
 "metadata": {
  "interpreter": {
   "hash": "03c1dc1afaa2e1aac21eef9ecdc4b2c682ae5021ad64b1d76ee0807cce744760"
  },
  "kernelspec": {
   "display_name": "Python 3.9.1 64-bit ('py39': venv)",
   "language": "python",
   "name": "python3"
  },
  "language_info": {
   "codemirror_mode": {
    "name": "ipython",
    "version": 3
   },
   "file_extension": ".py",
   "mimetype": "text/x-python",
   "name": "python",
   "nbconvert_exporter": "python",
   "pygments_lexer": "ipython3",
   "version": "3.9.1"
  },
  "orig_nbformat": 4
 },
 "nbformat": 4,
 "nbformat_minor": 2
}
